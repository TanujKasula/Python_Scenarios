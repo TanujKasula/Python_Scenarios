{
 "cells": [
  {
   "cell_type": "markdown",
   "id": "aa3c35c8",
   "metadata": {},
   "source": [
    "**HTTP METHODS**"
   ]
  },
  {
   "cell_type": "code",
   "execution_count": 16,
   "id": "3bbd18c5",
   "metadata": {},
   "outputs": [
    {
     "name": "stdout",
     "output_type": "stream",
     "text": [
      "200\n",
      "[{'id': 1, 'name': 'Leanne Graham', 'username': 'Bret', 'email': 'Sincere@april.biz', 'address': {'street': 'Kulas Light', 'suite': 'Apt. 556', 'city': 'Gwenborough', 'zipcode': '92998-3874', 'geo': {'lat': '-37.3159', 'lng': '81.1496'}}, 'phone': '1-770-736-8031 x56442', 'website': 'hildegard.org', 'company': {'name': 'Romaguera-Crona', 'catchPhrase': 'Multi-layered client-server neural-net', 'bs': 'harness real-time e-markets'}}, {'id': 2, 'name': 'Ervin Howell', 'username': 'Antonette', 'email': 'Shanna@melissa.tv', 'address': {'street': 'Victor Plains', 'suite': 'Suite 879', 'city': 'Wisokyburgh', 'zipcode': '90566-7771', 'geo': {'lat': '-43.9509', 'lng': '-34.4618'}}, 'phone': '010-692-6593 x09125', 'website': 'anastasia.net', 'company': {'name': 'Deckow-Crist', 'catchPhrase': 'Proactive didactic contingency', 'bs': 'synergize scalable supply-chains'}}, {'id': 3, 'name': 'Clementine Bauch', 'username': 'Samantha', 'email': 'Nathan@yesenia.net', 'address': {'street': 'Douglas Extension', 'suite': 'Suite 847', 'city': 'McKenziehaven', 'zipcode': '59590-4157', 'geo': {'lat': '-68.6102', 'lng': '-47.0653'}}, 'phone': '1-463-123-4447', 'website': 'ramiro.info', 'company': {'name': 'Romaguera-Jacobson', 'catchPhrase': 'Face to face bifurcated interface', 'bs': 'e-enable strategic applications'}}, {'id': 4, 'name': 'Patricia Lebsack', 'username': 'Karianne', 'email': 'Julianne.OConner@kory.org', 'address': {'street': 'Hoeger Mall', 'suite': 'Apt. 692', 'city': 'South Elvis', 'zipcode': '53919-4257', 'geo': {'lat': '29.4572', 'lng': '-164.2990'}}, 'phone': '493-170-9623 x156', 'website': 'kale.biz', 'company': {'name': 'Robel-Corkery', 'catchPhrase': 'Multi-tiered zero tolerance productivity', 'bs': 'transition cutting-edge web services'}}, {'id': 5, 'name': 'Chelsey Dietrich', 'username': 'Kamren', 'email': 'Lucio_Hettinger@annie.ca', 'address': {'street': 'Skiles Walks', 'suite': 'Suite 351', 'city': 'Roscoeview', 'zipcode': '33263', 'geo': {'lat': '-31.8129', 'lng': '62.5342'}}, 'phone': '(254)954-1289', 'website': 'demarco.info', 'company': {'name': 'Keebler LLC', 'catchPhrase': 'User-centric fault-tolerant solution', 'bs': 'revolutionize end-to-end systems'}}, {'id': 6, 'name': 'Mrs. Dennis Schulist', 'username': 'Leopoldo_Corkery', 'email': 'Karley_Dach@jasper.info', 'address': {'street': 'Norberto Crossing', 'suite': 'Apt. 950', 'city': 'South Christy', 'zipcode': '23505-1337', 'geo': {'lat': '-71.4197', 'lng': '71.7478'}}, 'phone': '1-477-935-8478 x6430', 'website': 'ola.org', 'company': {'name': 'Considine-Lockman', 'catchPhrase': 'Synchronised bottom-line interface', 'bs': 'e-enable innovative applications'}}, {'id': 7, 'name': 'Kurtis Weissnat', 'username': 'Elwyn.Skiles', 'email': 'Telly.Hoeger@billy.biz', 'address': {'street': 'Rex Trail', 'suite': 'Suite 280', 'city': 'Howemouth', 'zipcode': '58804-1099', 'geo': {'lat': '24.8918', 'lng': '21.8984'}}, 'phone': '210.067.6132', 'website': 'elvis.io', 'company': {'name': 'Johns Group', 'catchPhrase': 'Configurable multimedia task-force', 'bs': 'generate enterprise e-tailers'}}, {'id': 8, 'name': 'Nicholas Runolfsdottir V', 'username': 'Maxime_Nienow', 'email': 'Sherwood@rosamond.me', 'address': {'street': 'Ellsworth Summit', 'suite': 'Suite 729', 'city': 'Aliyaview', 'zipcode': '45169', 'geo': {'lat': '-14.3990', 'lng': '-120.7677'}}, 'phone': '586.493.6943 x140', 'website': 'jacynthe.com', 'company': {'name': 'Abernathy Group', 'catchPhrase': 'Implemented secondary concept', 'bs': 'e-enable extensible e-tailers'}}, {'id': 9, 'name': 'Glenna Reichert', 'username': 'Delphine', 'email': 'Chaim_McDermott@dana.io', 'address': {'street': 'Dayna Park', 'suite': 'Suite 449', 'city': 'Bartholomebury', 'zipcode': '76495-3109', 'geo': {'lat': '24.6463', 'lng': '-168.8889'}}, 'phone': '(775)976-6794 x41206', 'website': 'conrad.com', 'company': {'name': 'Yost and Sons', 'catchPhrase': 'Switchable contextually-based project', 'bs': 'aggregate real-time technologies'}}, {'id': 10, 'name': 'Clementina DuBuque', 'username': 'Moriah.Stanton', 'email': 'Rey.Padberg@karina.biz', 'address': {'street': 'Kattie Turnpike', 'suite': 'Suite 198', 'city': 'Lebsackbury', 'zipcode': '31428-2261', 'geo': {'lat': '-38.2386', 'lng': '57.2232'}}, 'phone': '024-648-3804', 'website': 'ambrose.net', 'company': {'name': 'Hoeger LLC', 'catchPhrase': 'Centralized empowering task-force', 'bs': 'target end-to-end models'}}]\n",
      "404\n"
     ]
    }
   ],
   "source": [
    "import requests\n",
    "\n",
    "response=requests.get(\"https://jsonplaceholder.typicode.com/USERS/\")\n",
    "print(response.status_code)\n",
    "data=response.json()\n",
    "print(data)\n",
    "\n",
    "res2=requests.get(\"https://jsonplaceholder.typicode.com/postssss\")\n",
    "print(res2.status_code)"
   ]
  },
  {
   "cell_type": "code",
   "execution_count": 19,
   "id": "4b3d9954",
   "metadata": {},
   "outputs": [
    {
     "name": "stdout",
     "output_type": "stream",
     "text": [
      "Index(['id', 'title', 'price', 'description', 'category', 'image', 'rating'], dtype='object')\n"
     ]
    },
    {
     "data": {
      "text/html": [
       "<div>\n",
       "<style scoped>\n",
       "    .dataframe tbody tr th:only-of-type {\n",
       "        vertical-align: middle;\n",
       "    }\n",
       "\n",
       "    .dataframe tbody tr th {\n",
       "        vertical-align: top;\n",
       "    }\n",
       "\n",
       "    .dataframe thead th {\n",
       "        text-align: right;\n",
       "    }\n",
       "</style>\n",
       "<table border=\"1\" class=\"dataframe\">\n",
       "  <thead>\n",
       "    <tr style=\"text-align: right;\">\n",
       "      <th></th>\n",
       "      <th>id</th>\n",
       "      <th>title</th>\n",
       "      <th>price</th>\n",
       "      <th>description</th>\n",
       "      <th>category</th>\n",
       "      <th>image</th>\n",
       "      <th>rating</th>\n",
       "    </tr>\n",
       "  </thead>\n",
       "  <tbody>\n",
       "    <tr>\n",
       "      <th>0</th>\n",
       "      <td>1</td>\n",
       "      <td>Fjallraven - Foldsack No. 1 Backpack, Fits 15 ...</td>\n",
       "      <td>109.95</td>\n",
       "      <td>Your perfect pack for everyday use and walks i...</td>\n",
       "      <td>men's clothing</td>\n",
       "      <td>https://fakestoreapi.com/img/81fPKd-2AYL._AC_S...</td>\n",
       "      <td>{'rate': 3.9, 'count': 120}</td>\n",
       "    </tr>\n",
       "    <tr>\n",
       "      <th>1</th>\n",
       "      <td>2</td>\n",
       "      <td>Mens Casual Premium Slim Fit T-Shirts</td>\n",
       "      <td>22.30</td>\n",
       "      <td>Slim-fitting style, contrast raglan long sleev...</td>\n",
       "      <td>men's clothing</td>\n",
       "      <td>https://fakestoreapi.com/img/71-3HjGNDUL._AC_S...</td>\n",
       "      <td>{'rate': 4.1, 'count': 259}</td>\n",
       "    </tr>\n",
       "    <tr>\n",
       "      <th>2</th>\n",
       "      <td>3</td>\n",
       "      <td>Mens Cotton Jacket</td>\n",
       "      <td>55.99</td>\n",
       "      <td>great outerwear jackets for Spring/Autumn/Wint...</td>\n",
       "      <td>men's clothing</td>\n",
       "      <td>https://fakestoreapi.com/img/71li-ujtlUL._AC_U...</td>\n",
       "      <td>{'rate': 4.7, 'count': 500}</td>\n",
       "    </tr>\n",
       "    <tr>\n",
       "      <th>3</th>\n",
       "      <td>4</td>\n",
       "      <td>Mens Casual Slim Fit</td>\n",
       "      <td>15.99</td>\n",
       "      <td>The color could be slightly different between ...</td>\n",
       "      <td>men's clothing</td>\n",
       "      <td>https://fakestoreapi.com/img/71YXzeOuslL._AC_U...</td>\n",
       "      <td>{'rate': 2.1, 'count': 430}</td>\n",
       "    </tr>\n",
       "    <tr>\n",
       "      <th>4</th>\n",
       "      <td>5</td>\n",
       "      <td>John Hardy Women's Legends Naga Gold &amp; Silver ...</td>\n",
       "      <td>695.00</td>\n",
       "      <td>From our Legends Collection, the Naga was insp...</td>\n",
       "      <td>jewelery</td>\n",
       "      <td>https://fakestoreapi.com/img/71pWzhdJNwL._AC_U...</td>\n",
       "      <td>{'rate': 4.6, 'count': 400}</td>\n",
       "    </tr>\n",
       "  </tbody>\n",
       "</table>\n",
       "</div>"
      ],
      "text/plain": [
       "   id                                              title   price  \\\n",
       "0   1  Fjallraven - Foldsack No. 1 Backpack, Fits 15 ...  109.95   \n",
       "1   2             Mens Casual Premium Slim Fit T-Shirts    22.30   \n",
       "2   3                                 Mens Cotton Jacket   55.99   \n",
       "3   4                               Mens Casual Slim Fit   15.99   \n",
       "4   5  John Hardy Women's Legends Naga Gold & Silver ...  695.00   \n",
       "\n",
       "                                         description        category  \\\n",
       "0  Your perfect pack for everyday use and walks i...  men's clothing   \n",
       "1  Slim-fitting style, contrast raglan long sleev...  men's clothing   \n",
       "2  great outerwear jackets for Spring/Autumn/Wint...  men's clothing   \n",
       "3  The color could be slightly different between ...  men's clothing   \n",
       "4  From our Legends Collection, the Naga was insp...        jewelery   \n",
       "\n",
       "                                               image  \\\n",
       "0  https://fakestoreapi.com/img/81fPKd-2AYL._AC_S...   \n",
       "1  https://fakestoreapi.com/img/71-3HjGNDUL._AC_S...   \n",
       "2  https://fakestoreapi.com/img/71li-ujtlUL._AC_U...   \n",
       "3  https://fakestoreapi.com/img/71YXzeOuslL._AC_U...   \n",
       "4  https://fakestoreapi.com/img/71pWzhdJNwL._AC_U...   \n",
       "\n",
       "                        rating  \n",
       "0  {'rate': 3.9, 'count': 120}  \n",
       "1  {'rate': 4.1, 'count': 259}  \n",
       "2  {'rate': 4.7, 'count': 500}  \n",
       "3  {'rate': 2.1, 'count': 430}  \n",
       "4  {'rate': 4.6, 'count': 400}  "
      ]
     },
     "execution_count": 19,
     "metadata": {},
     "output_type": "execute_result"
    }
   ],
   "source": [
    "import requests\n",
    "import pandas as pd\n",
    "import sqlalchemy\n",
    "\n",
    "url=\"https://fakestoreapi.com/products\"\n",
    "response1=requests.get(url)\n",
    "\n",
    "data=response1.json()\n",
    "df=pd.DataFrame(data)\n",
    "print(df.columns)\n",
    "df.head()"
   ]
  },
  {
   "cell_type": "markdown",
   "id": "b3b2c592",
   "metadata": {},
   "source": [
    "**Simulate the rate limits of api keys**"
   ]
  },
  {
   "cell_type": "code",
   "execution_count": null,
   "id": "21ea4122",
   "metadata": {},
   "outputs": [
    {
     "name": "stdout",
     "output_type": "stream",
     "text": [
      "Calling API for the 1 time...\n",
      "Status Code: 200\n",
      "Calling API for the 2 time...\n",
      "Status Code: 200\n",
      "Calling API for the 3 time...\n",
      "Status Code: 200\n",
      "Calling API for the 4 time...\n",
      "Status Code: 200\n",
      "Calling API for the 5 time...\n",
      "Status Code: 200\n",
      "Calling API for the 6 time...\n",
      "Status Code: 200\n",
      "Calling API for the 7 time...\n",
      "Status Code: 200\n",
      "Calling API for the 8 time...\n",
      "Status Code: 200\n",
      "Calling API for the 9 time...\n",
      "Status Code: 200\n",
      "Calling API for the 10 time...\n",
      "Status Code: 200\n",
      "Calling API for the 11 time...\n",
      "Status Code: 200\n",
      "Calling API for the 12 time...\n",
      "Status Code: 200\n",
      "Calling API for the 13 time...\n",
      "Status Code: 200\n",
      "Calling API for the 14 time...\n",
      "Status Code: 200\n",
      "Calling API for the 15 time...\n",
      "Status Code: 200\n",
      "Calling API for the 16 time...\n",
      "Status Code: 200\n",
      "Calling API for the 17 time...\n",
      "Status Code: 200\n",
      "Calling API for the 18 time...\n",
      "Status Code: 200\n",
      "Calling API for the 19 time...\n",
      "Status Code: 200\n",
      "Calling API for the 20 time...\n",
      "Status Code: 200\n",
      "Calling API for the 21 time...\n",
      "Status Code: 200\n",
      "Calling API for the 22 time...\n",
      "Status Code: 200\n",
      "Calling API for the 23 time...\n",
      "Status Code: 200\n",
      "Calling API for the 24 time...\n",
      "Status Code: 200\n",
      "Calling API for the 25 time...\n",
      "Status Code: 200\n",
      "Calling API for the 26 time...\n",
      "Status Code: 200\n",
      "Calling API for the 27 time...\n",
      "Status Code: 200\n",
      "Calling API for the 28 time...\n",
      "Status Code: 200\n",
      "Calling API for the 29 time...\n",
      "Status Code: 200\n",
      "Calling API for the 30 time...\n",
      "Status Code: 200\n",
      "Calling API for the 31 time...\n",
      "Status Code: 200\n",
      "Calling API for the 32 time...\n",
      "Status Code: 200\n",
      "Calling API for the 33 time...\n",
      "Status Code: 200\n",
      "Calling API for the 34 time...\n",
      "Status Code: 200\n",
      "Calling API for the 35 time...\n",
      "Status Code: 200\n",
      "Calling API for the 36 time...\n",
      "Status Code: 200\n",
      "Calling API for the 37 time...\n",
      "Status Code: 200\n",
      "Calling API for the 38 time...\n",
      "Status Code: 200\n",
      "Calling API for the 39 time...\n",
      "Status Code: 200\n",
      "Calling API for the 40 time...\n",
      "Status Code: 200\n",
      "Calling API for the 41 time...\n",
      "Status Code: 200\n",
      "Calling API for the 42 time...\n",
      "Status Code: 200\n",
      "Calling API for the 43 time...\n",
      "Status Code: 200\n",
      "Calling API for the 44 time...\n",
      "Status Code: 200\n",
      "Calling API for the 45 time...\n",
      "Status Code: 200\n",
      "Calling API for the 46 time...\n",
      "Status Code: 200\n",
      "Calling API for the 47 time...\n",
      "Status Code: 200\n",
      "Calling API for the 48 time...\n",
      "Status Code: 200\n",
      "Calling API for the 49 time...\n",
      "Status Code: 200\n",
      "Calling API for the 50 time...\n",
      "Status Code: 200\n",
      "Calling API for the 51 time...\n",
      "Status Code: 200\n",
      "Calling API for the 52 time...\n",
      "Status Code: 200\n",
      "Calling API for the 53 time...\n",
      "Status Code: 200\n",
      "Calling API for the 54 time...\n",
      "Status Code: 200\n",
      "Calling API for the 55 time...\n",
      "Status Code: 200\n",
      "Calling API for the 56 time...\n",
      "Status Code: 200\n",
      "Calling API for the 57 time...\n",
      "Status Code: 200\n",
      "Calling API for the 58 time...\n",
      "Status Code: 200\n",
      "Calling API for the 59 time...\n",
      "Status Code: 200\n",
      "Calling API for the 60 time...\n",
      "Status Code: 200\n",
      "Calling API for the 61 time...\n",
      "Status Code: 200\n",
      "Calling API for the 62 time...\n",
      "Status Code: 200\n",
      "Calling API for the 63 time...\n",
      "Status Code: 200\n",
      "Calling API for the 64 time...\n",
      "Status Code: 200\n",
      "Calling API for the 65 time...\n",
      "Status Code: 200\n",
      "Calling API for the 66 time...\n",
      "Status Code: 200\n",
      "Calling API for the 67 time...\n",
      "Status Code: 200\n",
      "Calling API for the 68 time...\n",
      "Status Code: 200\n",
      "Calling API for the 69 time...\n",
      "Status Code: 200\n",
      "Calling API for the 70 time...\n",
      "Status Code: 200\n",
      "Calling API for the 71 time...\n",
      "Status Code: 200\n",
      "Calling API for the 72 time...\n",
      "Status Code: 200\n",
      "Calling API for the 73 time...\n",
      "Status Code: 200\n",
      "Calling API for the 74 time...\n",
      "Status Code: 200\n",
      "Calling API for the 75 time...\n",
      "Status Code: 200\n",
      "Calling API for the 76 time...\n",
      "Status Code: 200\n",
      "Calling API for the 77 time...\n",
      "Status Code: 200\n",
      "Calling API for the 78 time...\n",
      "Status Code: 200\n",
      "Calling API for the 79 time...\n",
      "Status Code: 200\n",
      "Calling API for the 80 time...\n",
      "Status Code: 200\n",
      "Calling API for the 81 time...\n",
      "Status Code: 200\n",
      "Calling API for the 82 time...\n",
      "Status Code: 200\n",
      "Calling API for the 83 time...\n",
      "Status Code: 200\n",
      "Calling API for the 84 time...\n",
      "Status Code: 200\n",
      "Calling API for the 85 time...\n",
      "Status Code: 200\n",
      "Calling API for the 86 time...\n",
      "Status Code: 200\n",
      "Calling API for the 87 time...\n",
      "Status Code: 200\n",
      "Calling API for the 88 time...\n",
      "Status Code: 200\n",
      "Calling API for the 89 time...\n",
      "Status Code: 200\n",
      "Calling API for the 90 time...\n",
      "Status Code: 200\n",
      "Calling API for the 91 time...\n",
      "Status Code: 200\n",
      "Calling API for the 92 time...\n",
      "Status Code: 200\n",
      "Calling API for the 93 time...\n",
      "Status Code: 200\n",
      "Calling API for the 94 time...\n",
      "Status Code: 200\n",
      "Calling API for the 95 time...\n",
      "Status Code: 200\n",
      "Calling API for the 96 time...\n",
      "Status Code: 200\n",
      "Calling API for the 97 time...\n",
      "Status Code: 200\n",
      "Calling API for the 98 time...\n",
      "Status Code: 200\n",
      "Calling API for the 99 time...\n",
      "Status Code: 200\n",
      "Calling API for the 100 time...\n",
      "Status Code: 200\n"
     ]
    }
   ],
   "source": [
    "import time\n",
    "import requests\n",
    "\n",
    "for i in range(100):\n",
    "    print(f\"Calling API for the {i+1} time...\")\n",
    "    response2=requests.get(\"https://jsonplaceholder.typicode.com/posts/1\")\n",
    "    print(\"Status Code:\",response2.status_code)\n",
    "    time.sleep(0)\n",
    "    if response2.status_code !=200:\n",
    "        break\n"
   ]
  },
  {
   "cell_type": "code",
   "execution_count": 34,
   "id": "e28c325b",
   "metadata": {},
   "outputs": [
    {
     "data": {
      "text/html": [
       "<img src=\"https://images.dog.ceo/breeds/terrier-norfolk/n02094114_482.jpg\"/>"
      ],
      "text/plain": [
       "<IPython.core.display.Image object>"
      ]
     },
     "metadata": {},
     "output_type": "display_data"
    },
    {
     "name": "stdout",
     "output_type": "stream",
     "text": [
      "Calling API for the 1 time...\n",
      "Status Code: 200\n"
     ]
    },
    {
     "data": {
      "text/html": [
       "<img src=\"https://images.dog.ceo/breeds/maltese/n02085936_9270.jpg\"/>"
      ],
      "text/plain": [
       "<IPython.core.display.Image object>"
      ]
     },
     "metadata": {},
     "output_type": "display_data"
    },
    {
     "name": "stdout",
     "output_type": "stream",
     "text": [
      "Calling API for the 2 time...\n",
      "Status Code: 200\n"
     ]
    },
    {
     "data": {
      "text/html": [
       "<img src=\"https://images.dog.ceo/breeds/keeshond/n02112350_8628.jpg\"/>"
      ],
      "text/plain": [
       "<IPython.core.display.Image object>"
      ]
     },
     "metadata": {},
     "output_type": "display_data"
    },
    {
     "name": "stdout",
     "output_type": "stream",
     "text": [
      "Calling API for the 3 time...\n",
      "Status Code: 200\n"
     ]
    },
    {
     "data": {
      "text/html": [
       "<img src=\"https://images.dog.ceo/breeds/hound-walker/n02089867_277.jpg\"/>"
      ],
      "text/plain": [
       "<IPython.core.display.Image object>"
      ]
     },
     "metadata": {},
     "output_type": "display_data"
    },
    {
     "name": "stdout",
     "output_type": "stream",
     "text": [
      "Calling API for the 4 time...\n",
      "Status Code: 200\n"
     ]
    },
    {
     "data": {
      "text/html": [
       "<img src=\"https://images.dog.ceo/breeds/pyrenees/n02111500_3306.jpg\"/>"
      ],
      "text/plain": [
       "<IPython.core.display.Image object>"
      ]
     },
     "metadata": {},
     "output_type": "display_data"
    },
    {
     "name": "stdout",
     "output_type": "stream",
     "text": [
      "Calling API for the 5 time...\n",
      "Status Code: 200\n"
     ]
    },
    {
     "data": {
      "text/html": [
       "<img src=\"https://images.dog.ceo/breeds/sharpei/noel.jpg\"/>"
      ],
      "text/plain": [
       "<IPython.core.display.Image object>"
      ]
     },
     "metadata": {},
     "output_type": "display_data"
    },
    {
     "name": "stdout",
     "output_type": "stream",
     "text": [
      "Calling API for the 6 time...\n",
      "Status Code: 200\n"
     ]
    },
    {
     "data": {
      "text/html": [
       "<img src=\"https://images.dog.ceo/breeds/maltese/n02085936_5766.jpg\"/>"
      ],
      "text/plain": [
       "<IPython.core.display.Image object>"
      ]
     },
     "metadata": {},
     "output_type": "display_data"
    },
    {
     "name": "stdout",
     "output_type": "stream",
     "text": [
      "Calling API for the 7 time...\n",
      "Status Code: 200\n"
     ]
    },
    {
     "data": {
      "text/html": [
       "<img src=\"https://images.dog.ceo/breeds/hound-afghan/n02088094_3059.jpg\"/>"
      ],
      "text/plain": [
       "<IPython.core.display.Image object>"
      ]
     },
     "metadata": {},
     "output_type": "display_data"
    },
    {
     "name": "stdout",
     "output_type": "stream",
     "text": [
      "Calling API for the 8 time...\n",
      "Status Code: 200\n"
     ]
    },
    {
     "data": {
      "text/html": [
       "<img src=\"https://images.dog.ceo/breeds/chow/n02112137_4956.jpg\"/>"
      ],
      "text/plain": [
       "<IPython.core.display.Image object>"
      ]
     },
     "metadata": {},
     "output_type": "display_data"
    },
    {
     "name": "stdout",
     "output_type": "stream",
     "text": [
      "Calling API for the 9 time...\n",
      "Status Code: 200\n"
     ]
    },
    {
     "data": {
      "text/html": [
       "<img src=\"https://images.dog.ceo/breeds/terrier-fox/n02095314_2198.jpg\"/>"
      ],
      "text/plain": [
       "<IPython.core.display.Image object>"
      ]
     },
     "metadata": {},
     "output_type": "display_data"
    },
    {
     "name": "stdout",
     "output_type": "stream",
     "text": [
      "Calling API for the 10 time...\n",
      "Status Code: 200\n"
     ]
    }
   ],
   "source": [
    "from IPython.display import Image, display\n",
    "\n",
    "for i in range(10):\n",
    "    dogs=requests.get(\"https://dog.ceo/api/breeds/image/random\")\n",
    "    dogs_data=dogs.json()\n",
    "    dogs_img=dogs_data['message']\n",
    "    display(Image(url=dogs_img))\n",
    "    print(f\"Calling API for the {i+1} time...\")\n",
    "    print(\"Status Code:\",response2.status_code)\n",
    "    time.sleep(0)"
   ]
  },
  {
   "cell_type": "markdown",
   "id": "7a4d8ecc",
   "metadata": {},
   "source": [
    "### **HANDLE PAGINATION**\n",
    "\n",
    "**we will use this api: https://reqres.in/api/users**"
   ]
  },
  {
   "cell_type": "code",
   "execution_count": 39,
   "id": "6709177d",
   "metadata": {},
   "outputs": [
    {
     "name": "stdout",
     "output_type": "stream",
     "text": [
      "{'error': 'Missing API key.', 'how_to_get_one': 'https://reqres.in/signup'}\n",
      "{'error': 'Missing API key.', 'how_to_get_one': 'https://reqres.in/signup'}\n"
     ]
    }
   ],
   "source": [
    "import requests\n",
    "import pandas as pd\n",
    "\n",
    "all_users=[]\n",
    "\n",
    "for page in range(1,3): #for page nos: 1,2\n",
    "    response=requests.get(\"https://reqres.in/api/users?page={page}\")\n",
    "    data=response.json()\n",
    "    print(data)\n",
    "    # users=data[\"data\"]\n",
    "    # all_users.extend(users)\n",
    "\n",
    "# df=pd.DataFrame(all_users)\n",
    "# df"
   ]
  },
  {
   "cell_type": "code",
   "execution_count": null,
   "id": "81b89574",
   "metadata": {},
   "outputs": [],
   "source": []
  }
 ],
 "metadata": {
  "kernelspec": {
   "display_name": "Usecases",
   "language": "python",
   "name": "python3"
  },
  "language_info": {
   "codemirror_mode": {
    "name": "ipython",
    "version": 3
   },
   "file_extension": ".py",
   "mimetype": "text/x-python",
   "name": "python",
   "nbconvert_exporter": "python",
   "pygments_lexer": "ipython3",
   "version": "3.11.9"
  }
 },
 "nbformat": 4,
 "nbformat_minor": 5
}
