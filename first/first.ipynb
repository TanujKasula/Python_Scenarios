{
 "cells": [
  {
   "cell_type": "code",
   "execution_count": null,
   "id": "49696727",
   "metadata": {},
   "outputs": [
    {
     "name": "stdout",
     "output_type": "stream",
     "text": [
      "{'A': [1, 2, 3, 4, None], 'B': [1, 2, 3, None, 5]}\n",
      "Dataframe :\n",
      "      A    B\n",
      "0  1.0  1.0\n",
      "1  2.0  2.0\n",
      "2  3.0  3.0\n",
      "3  4.0  NaN\n",
      "4  NaN  5.0\n",
      "Dataframe after dropping missing values:\n",
      "      A    B\n",
      "0  1.0  1.0\n",
      "1  2.0  2.0\n",
      "2  3.0  3.0\n",
      "Dataframe after filling the specific value:\n",
      "      A    B\n",
      "0  1.0  1.0\n",
      "1  2.0  2.0\n",
      "2  3.0  3.0\n",
      "3  4.0  0.0\n",
      "4  0.0  5.0\n"
     ]
    }
   ],
   "source": [
    "import pandas as pd\n",
    "\n",
    "data={\n",
    "        'A':[1,2,3,4,None],\n",
    "        'B':[1,2,3,None,5]\n",
    "}\n",
    "\n",
    "print(data)\n",
    "df=pd.DataFrame(data)\n",
    "\n",
    "df.head()\n",
    "#drop not available values none values\n",
    "df_dropna=df.dropna()\n",
    "#fill the values with \n",
    "df_fillna=df.fillna(0)\n",
    "\n",
    "print(\"Dataframe :\\n\",df)\n",
    "print(\"Dataframe after dropping missing values:\\n\",df_dropna)\n",
    "print(\"Dataframe after filling the specific value:\\n\",df_fillna)\n"
   ]
  },
  {
   "cell_type": "code",
   "execution_count": 26,
   "id": "202c7235",
   "metadata": {},
   "outputs": [
    {
     "name": "stdout",
     "output_type": "stream",
     "text": [
      "[1 2 3]\n",
      "[[1 2 3]\n",
      " [4 5 6]\n",
      " [7 8 9]]\n"
     ]
    }
   ],
   "source": [
    "import numpy as np\n",
    "\n",
    "a2=np.array([[1,2,3],[4,5,6],[7,8,9]])\n",
    "a1=np.array([1,2,3])\n",
    "print(a1)\n",
    "print(a2)"
   ]
  },
  {
   "cell_type": "code",
   "execution_count": 25,
   "id": "1f035d38",
   "metadata": {},
   "outputs": [
    {
     "data": {
      "text/plain": [
       "array([[1., 2., 3.],\n",
       "       [4., 5., 6.],\n",
       "       [7., 8., 9.]])"
      ]
     },
     "execution_count": 25,
     "metadata": {},
     "output_type": "execute_result"
    }
   ],
   "source": [
    "a1.shape\n",
    "a1=a1/10.0/10.5\n",
    "a1"
   ]
  }
 ],
 "metadata": {
  "kernelspec": {
   "display_name": "Usecases",
   "language": "python",
   "name": "python3"
  },
  "language_info": {
   "codemirror_mode": {
    "name": "ipython",
    "version": 3
   },
   "file_extension": ".py",
   "mimetype": "text/x-python",
   "name": "python",
   "nbconvert_exporter": "python",
   "pygments_lexer": "ipython3",
   "version": "3.11.9"
  }
 },
 "nbformat": 4,
 "nbformat_minor": 5
}
