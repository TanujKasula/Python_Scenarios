{
 "cells": [
  {
   "cell_type": "markdown",
   "id": "12b58785",
   "metadata": {},
   "source": [
    "**3. Customer Classification**\n",
    "Task:\n",
    "* Add a new column named Customer_Tier based on the following mappings:\n",
    "* Tier\t\n",
    "* Mapping Value\n",
    "\n",
    "Gold\t2\n",
    "Silver\t1\n",
    "Bronze\t0"
   ]
  },
  {
   "cell_type": "code",
   "execution_count": 1,
   "id": "19cb502e",
   "metadata": {},
   "outputs": [],
   "source": [
    "server='DESKTOP-HJVSCEN\\MSSQLSERVER1'\n",
    "database='Python ETL'\n",
    "username='sa'\n",
    "password='Ka@12345678'"
   ]
  },
  {
   "cell_type": "code",
   "execution_count": 2,
   "id": "05e1f86f",
   "metadata": {},
   "outputs": [],
   "source": [
    "import urllib\n",
    "\n",
    "ConnectionString = f\"\"\"\n",
    "    DRIVER={{ODBC Driver 18 for SQL Server}};\n",
    "    SERVER={server};\n",
    "    DATABASE={database};\n",
    "    UID={username};\n",
    "    PWD={password};\n",
    "    TrustServerCertificate=yes;\n",
    "\"\"\"\n",
    "# URL-encode the connection string for SQLAlchemy\n",
    "params=urllib.parse.quote_plus(ConnectionString)"
   ]
  },
  {
   "cell_type": "code",
   "execution_count": 3,
   "id": "fadb917b",
   "metadata": {},
   "outputs": [],
   "source": [
    "from sqlalchemy import create_engine\n",
    "import pandas as pd\n",
    "\n",
    "engine=create_engine(f\"mssql+pyodbc:///?odbc_connect={params}\")"
   ]
  },
  {
   "cell_type": "code",
   "execution_count": 4,
   "id": "c0251d77",
   "metadata": {},
   "outputs": [],
   "source": [
    "customer_df=pd.read_sql(\"SELECT * FROM CUSTOMERS\",con=engine)\n",
    "order_df=pd.read_sql(\"SELECT * FROM ORDERS\",con=engine)\n",
    "transaction_df=pd.read_sql(\"SELECT * FROM TRANSACTIONS\",con=engine)"
   ]
  },
  {
   "cell_type": "code",
   "execution_count": 5,
   "id": "0c54fb5a",
   "metadata": {},
   "outputs": [],
   "source": [
    "mappings={\n",
    "    \"Gold\":0,\n",
    "    \"Silver\":1,\n",
    "    \"Bronze\":2\n",
    "}\n",
    "\n",
    "customer_df['loyalty_status_num']=customer_df['loyalty_status'].map(mappings)"
   ]
  },
  {
   "cell_type": "code",
   "execution_count": 6,
   "id": "b58460d6",
   "metadata": {},
   "outputs": [
    {
     "data": {
      "text/plain": [
       "214"
      ]
     },
     "execution_count": 6,
     "metadata": {},
     "output_type": "execute_result"
    }
   ],
   "source": [
    "customer_df.to_sql(\"customers\",con=engine,index=False,if_exists='replace')"
   ]
  },
  {
   "cell_type": "code",
   "execution_count": null,
   "id": "d74260cd",
   "metadata": {},
   "outputs": [],
   "source": []
  }
 ],
 "metadata": {
  "kernelspec": {
   "display_name": "Usecases",
   "language": "python",
   "name": "python3"
  },
  "language_info": {
   "codemirror_mode": {
    "name": "ipython",
    "version": 3
   },
   "file_extension": ".py",
   "mimetype": "text/x-python",
   "name": "python",
   "nbconvert_exporter": "python",
   "pygments_lexer": "ipython3",
   "version": "3.11.9"
  }
 },
 "nbformat": 4,
 "nbformat_minor": 5
}
