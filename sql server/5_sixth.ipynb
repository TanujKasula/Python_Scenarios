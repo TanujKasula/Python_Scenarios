{
 "cells": [
  {
   "cell_type": "markdown",
   "id": "12b58785",
   "metadata": {},
   "source": [
    "**3. Customer Classification**\n",
    "Task:\n",
    "* Add a new column named Customer_Tier based on the following mappings:\n",
    "* Tier\t\n",
    "* Mapping Value\n",
    "\n",
    "Gold\t2\n",
    "Silver\t1\n",
    "Bronze\t0"
   ]
  },
  {
   "cell_type": "code",
   "execution_count": 1,
   "id": "19cb502e",
   "metadata": {},
   "outputs": [],
   "source": [
    "server='DESKTOP-HJVSCEN\\MSSQLSERVER1'\n",
    "database='Python ETL'\n",
    "username='sa'\n",
    "password='Ka@12345678'"
   ]
  },
  {
   "cell_type": "code",
   "execution_count": 2,
   "id": "05e1f86f",
   "metadata": {},
   "outputs": [],
   "source": [
    "import urllib\n",
    "\n",
    "ConnectionString = f\"\"\"\n",
    "    DRIVER={{ODBC Driver 18 for SQL Server}};\n",
    "    SERVER={server};\n",
    "    DATABASE={database};\n",
    "    UID={username};\n",
    "    PWD={password};\n",
    "    TrustServerCertificate=yes;\n",
    "\"\"\"\n",
    "# URL-encode the connection string for SQLAlchemy\n",
    "params=urllib.parse.quote_plus(ConnectionString)"
   ]
  },
  {
   "cell_type": "code",
   "execution_count": 3,
   "id": "fadb917b",
   "metadata": {},
   "outputs": [],
   "source": [
    "from sqlalchemy import create_engine\n",
    "import pandas as pd\n",
    "\n",
    "engine=create_engine(f\"mssql+pyodbc:///?odbc_connect={params}\")"
   ]
  },
  {
   "cell_type": "code",
   "execution_count": 17,
   "id": "c0251d77",
   "metadata": {},
   "outputs": [],
   "source": [
    "customer_df=pd.read_sql(\"SELECT * FROM cleaned_customer_phone\",con=engine)\n",
    "order_df=pd.read_sql(\"SELECT * FROM ORDERS\",con=engine)\n",
    "transaction_df=pd.read_sql(\"SELECT * FROM TRANSACTIONS\",con=engine)"
   ]
  },
  {
   "cell_type": "code",
   "execution_count": 5,
   "id": "0c54fb5a",
   "metadata": {},
   "outputs": [],
   "source": [
    "mappings={\n",
    "    \"Gold\":0,\n",
    "    \"Silver\":1,\n",
    "    \"Bronze\":2\n",
    "}\n",
    "\n",
    "customer_df['loyalty_status_num']=customer_df['loyalty_status'].map(mappings)"
   ]
  },
  {
   "cell_type": "code",
   "execution_count": 10,
   "id": "1c16a190",
   "metadata": {},
   "outputs": [
    {
     "data": {
      "text/plain": [
       "Index(['customer_id', 'name', 'first_name', 'last_name', 'email', 'phone',\n",
       "       'address', 'registration_date', 'Country', 'loyalty_status_num'],\n",
       "      dtype='object')"
      ]
     },
     "execution_count": 10,
     "metadata": {},
     "output_type": "execute_result"
    }
   ],
   "source": [
    "# customer_df=customer_df.drop(columns=['loyalty_status','country_code_name','ISO2','CallingCode'])\n"
   ]
  },
  {
   "cell_type": "code",
   "execution_count": 11,
   "id": "03c3039e",
   "metadata": {},
   "outputs": [
    {
     "data": {
      "text/plain": [
       "Index(['customer_id', 'name', 'first_name', 'last_name', 'email', 'phone',\n",
       "       'address', 'registration_date', 'Country', 'loyalty_status_num'],\n",
       "      dtype='object')"
      ]
     },
     "execution_count": 11,
     "metadata": {},
     "output_type": "execute_result"
    }
   ],
   "source": [
    "customer_df.columns"
   ]
  },
  {
   "cell_type": "code",
   "execution_count": 13,
   "id": "8b231d27",
   "metadata": {},
   "outputs": [],
   "source": [
    "new_order=['customer_id', 'name', 'first_name', 'last_name', 'email', 'phone',\n",
    "       'address', 'registration_date', 'loyalty_status_num','Country']"
   ]
  },
  {
   "cell_type": "code",
   "execution_count": 14,
   "id": "2817101d",
   "metadata": {},
   "outputs": [],
   "source": [
    "customer_df=customer_df[new_order]"
   ]
  },
  {
   "cell_type": "code",
   "execution_count": 15,
   "id": "c6d69289",
   "metadata": {},
   "outputs": [
    {
     "data": {
      "text/html": [
       "<div>\n",
       "<style scoped>\n",
       "    .dataframe tbody tr th:only-of-type {\n",
       "        vertical-align: middle;\n",
       "    }\n",
       "\n",
       "    .dataframe tbody tr th {\n",
       "        vertical-align: top;\n",
       "    }\n",
       "\n",
       "    .dataframe thead th {\n",
       "        text-align: right;\n",
       "    }\n",
       "</style>\n",
       "<table border=\"1\" class=\"dataframe\">\n",
       "  <thead>\n",
       "    <tr style=\"text-align: right;\">\n",
       "      <th></th>\n",
       "      <th>customer_id</th>\n",
       "      <th>name</th>\n",
       "      <th>first_name</th>\n",
       "      <th>last_name</th>\n",
       "      <th>email</th>\n",
       "      <th>phone</th>\n",
       "      <th>address</th>\n",
       "      <th>registration_date</th>\n",
       "      <th>loyalty_status_num</th>\n",
       "      <th>Country</th>\n",
       "    </tr>\n",
       "  </thead>\n",
       "  <tbody>\n",
       "    <tr>\n",
       "      <th>0</th>\n",
       "      <td>1</td>\n",
       "      <td>Michelle Kidd</td>\n",
       "      <td>Michelle</td>\n",
       "      <td>Kidd</td>\n",
       "      <td>vayala@example.net</td>\n",
       "      <td>+971 6197234258</td>\n",
       "      <td>USNS Santiago, FPO AE 80872</td>\n",
       "      <td>2025-01-25</td>\n",
       "      <td>0</td>\n",
       "      <td>United Arab Emirates</td>\n",
       "    </tr>\n",
       "    <tr>\n",
       "      <th>1</th>\n",
       "      <td>2</td>\n",
       "      <td>Brad Newton</td>\n",
       "      <td>Brad</td>\n",
       "      <td>Newton</td>\n",
       "      <td>taylorcatherine@example.net</td>\n",
       "      <td>+356 5376741158</td>\n",
       "      <td>38783 Oliver Street, West Kristenborough, MT 9...</td>\n",
       "      <td>2023-07-13</td>\n",
       "      <td>1</td>\n",
       "      <td>Malta</td>\n",
       "    </tr>\n",
       "    <tr>\n",
       "      <th>2</th>\n",
       "      <td>3</td>\n",
       "      <td>Larry Torres</td>\n",
       "      <td>Larry</td>\n",
       "      <td>Torres</td>\n",
       "      <td>dsanchez@example.net</td>\n",
       "      <td>+1 8102564505</td>\n",
       "      <td>6845 Steele Turnpike, West Erikabury, UT 37487</td>\n",
       "      <td>2023-08-18</td>\n",
       "      <td>2</td>\n",
       "      <td>None</td>\n",
       "    </tr>\n",
       "    <tr>\n",
       "      <th>3</th>\n",
       "      <td>4</td>\n",
       "      <td>Kimberly Price</td>\n",
       "      <td>Kimberly</td>\n",
       "      <td>Price</td>\n",
       "      <td>jessicaknight@example.com</td>\n",
       "      <td>+1 4232229779</td>\n",
       "      <td>1631 Alexis Meadows, Lake Amanda, CA 75179</td>\n",
       "      <td>2024-12-08</td>\n",
       "      <td>0</td>\n",
       "      <td>Canada</td>\n",
       "    </tr>\n",
       "    <tr>\n",
       "      <th>4</th>\n",
       "      <td>5</td>\n",
       "      <td>Matthew Phillips</td>\n",
       "      <td>Matthew</td>\n",
       "      <td>Phillips</td>\n",
       "      <td>qwilliams@example.com</td>\n",
       "      <td>+1 2207633522</td>\n",
       "      <td>2274 Williams Heights Suite 895, Andersonhaven...</td>\n",
       "      <td>2024-02-03</td>\n",
       "      <td>0</td>\n",
       "      <td>None</td>\n",
       "    </tr>\n",
       "    <tr>\n",
       "      <th>...</th>\n",
       "      <td>...</td>\n",
       "      <td>...</td>\n",
       "      <td>...</td>\n",
       "      <td>...</td>\n",
       "      <td>...</td>\n",
       "      <td>...</td>\n",
       "      <td>...</td>\n",
       "      <td>...</td>\n",
       "      <td>...</td>\n",
       "      <td>...</td>\n",
       "    </tr>\n",
       "    <tr>\n",
       "      <th>995</th>\n",
       "      <td>996</td>\n",
       "      <td>Jerry Mcdaniel</td>\n",
       "      <td>Jerry</td>\n",
       "      <td>Mcdaniel</td>\n",
       "      <td>walkerlisa@example.net</td>\n",
       "      <td>+1 6389899441</td>\n",
       "      <td>34746 Smith Gateway, New Sarah, AS 12715</td>\n",
       "      <td>2025-02-10</td>\n",
       "      <td>1</td>\n",
       "      <td>None</td>\n",
       "    </tr>\n",
       "    <tr>\n",
       "      <th>996</th>\n",
       "      <td>997</td>\n",
       "      <td>Jodi Simpson</td>\n",
       "      <td>Jodi</td>\n",
       "      <td>Simpson</td>\n",
       "      <td>eric24@example.org</td>\n",
       "      <td>+355 4836252940</td>\n",
       "      <td>2876 Tucker Road Suite 947, North Tommyborough...</td>\n",
       "      <td>2024-04-18</td>\n",
       "      <td>2</td>\n",
       "      <td>Albania</td>\n",
       "    </tr>\n",
       "    <tr>\n",
       "      <th>997</th>\n",
       "      <td>998</td>\n",
       "      <td>Crystal Brown</td>\n",
       "      <td>Crystal</td>\n",
       "      <td>Brown</td>\n",
       "      <td>pshaffer@example.net</td>\n",
       "      <td>+49 3907473088</td>\n",
       "      <td>095 Janice Forest Suite 570, Boltonmouth, DE 7...</td>\n",
       "      <td>2024-08-30</td>\n",
       "      <td>2</td>\n",
       "      <td>Germany</td>\n",
       "    </tr>\n",
       "    <tr>\n",
       "      <th>998</th>\n",
       "      <td>999</td>\n",
       "      <td>Gregory Duarte</td>\n",
       "      <td>Gregory</td>\n",
       "      <td>Duarte</td>\n",
       "      <td>caitlindunlap@example.org</td>\n",
       "      <td>+1 2574098196</td>\n",
       "      <td>Unit 6377 Box 7662, DPO AP 03300</td>\n",
       "      <td>2024-05-16</td>\n",
       "      <td>0</td>\n",
       "      <td>None</td>\n",
       "    </tr>\n",
       "    <tr>\n",
       "      <th>999</th>\n",
       "      <td>1000</td>\n",
       "      <td>Jason Walls</td>\n",
       "      <td>Jason</td>\n",
       "      <td>Walls</td>\n",
       "      <td>michael42@example.com</td>\n",
       "      <td>+692 6923336880</td>\n",
       "      <td>95002 Bruce Rue, Camachoport, MH 58723</td>\n",
       "      <td>2024-12-10</td>\n",
       "      <td>2</td>\n",
       "      <td>Marshall Islands</td>\n",
       "    </tr>\n",
       "  </tbody>\n",
       "</table>\n",
       "<p>1000 rows × 10 columns</p>\n",
       "</div>"
      ],
      "text/plain": [
       "     customer_id              name first_name last_name  \\\n",
       "0              1     Michelle Kidd   Michelle      Kidd   \n",
       "1              2       Brad Newton       Brad    Newton   \n",
       "2              3      Larry Torres      Larry    Torres   \n",
       "3              4    Kimberly Price   Kimberly     Price   \n",
       "4              5  Matthew Phillips    Matthew  Phillips   \n",
       "..           ...               ...        ...       ...   \n",
       "995          996    Jerry Mcdaniel      Jerry  Mcdaniel   \n",
       "996          997      Jodi Simpson       Jodi   Simpson   \n",
       "997          998     Crystal Brown    Crystal     Brown   \n",
       "998          999    Gregory Duarte    Gregory    Duarte   \n",
       "999         1000       Jason Walls      Jason     Walls   \n",
       "\n",
       "                           email            phone  \\\n",
       "0             vayala@example.net  +971 6197234258   \n",
       "1    taylorcatherine@example.net  +356 5376741158   \n",
       "2           dsanchez@example.net    +1 8102564505   \n",
       "3      jessicaknight@example.com    +1 4232229779   \n",
       "4          qwilliams@example.com    +1 2207633522   \n",
       "..                           ...              ...   \n",
       "995       walkerlisa@example.net    +1 6389899441   \n",
       "996           eric24@example.org  +355 4836252940   \n",
       "997         pshaffer@example.net   +49 3907473088   \n",
       "998    caitlindunlap@example.org    +1 2574098196   \n",
       "999        michael42@example.com  +692 6923336880   \n",
       "\n",
       "                                               address registration_date  \\\n",
       "0                          USNS Santiago, FPO AE 80872        2025-01-25   \n",
       "1    38783 Oliver Street, West Kristenborough, MT 9...        2023-07-13   \n",
       "2       6845 Steele Turnpike, West Erikabury, UT 37487        2023-08-18   \n",
       "3           1631 Alexis Meadows, Lake Amanda, CA 75179        2024-12-08   \n",
       "4    2274 Williams Heights Suite 895, Andersonhaven...        2024-02-03   \n",
       "..                                                 ...               ...   \n",
       "995           34746 Smith Gateway, New Sarah, AS 12715        2025-02-10   \n",
       "996  2876 Tucker Road Suite 947, North Tommyborough...        2024-04-18   \n",
       "997  095 Janice Forest Suite 570, Boltonmouth, DE 7...        2024-08-30   \n",
       "998                   Unit 6377 Box 7662, DPO AP 03300        2024-05-16   \n",
       "999             95002 Bruce Rue, Camachoport, MH 58723        2024-12-10   \n",
       "\n",
       "     loyalty_status_num               Country  \n",
       "0                     0  United Arab Emirates  \n",
       "1                     1                 Malta  \n",
       "2                     2                  None  \n",
       "3                     0                Canada  \n",
       "4                     0                  None  \n",
       "..                  ...                   ...  \n",
       "995                   1                  None  \n",
       "996                   2               Albania  \n",
       "997                   2               Germany  \n",
       "998                   0                  None  \n",
       "999                   2      Marshall Islands  \n",
       "\n",
       "[1000 rows x 10 columns]"
      ]
     },
     "execution_count": 15,
     "metadata": {},
     "output_type": "execute_result"
    }
   ],
   "source": [
    "customer_df"
   ]
  },
  {
   "cell_type": "code",
   "execution_count": 16,
   "id": "b58460d6",
   "metadata": {},
   "outputs": [
    {
     "data": {
      "text/plain": [
       "164"
      ]
     },
     "execution_count": 16,
     "metadata": {},
     "output_type": "execute_result"
    }
   ],
   "source": [
    "customer_df.to_sql(\"cleaned_customers_status\",con=engine,index=False,if_exists='replace')"
   ]
  },
  {
   "cell_type": "code",
   "execution_count": null,
   "id": "d74260cd",
   "metadata": {},
   "outputs": [],
   "source": []
  }
 ],
 "metadata": {
  "kernelspec": {
   "display_name": "Usecases",
   "language": "python",
   "name": "python3"
  },
  "language_info": {
   "codemirror_mode": {
    "name": "ipython",
    "version": 3
   },
   "file_extension": ".py",
   "mimetype": "text/x-python",
   "name": "python",
   "nbconvert_exporter": "python",
   "pygments_lexer": "ipython3",
   "version": "3.11.9"
  }
 },
 "nbformat": 4,
 "nbformat_minor": 5
}
