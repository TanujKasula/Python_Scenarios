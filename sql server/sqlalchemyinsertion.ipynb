{
 "cells": [
  {
   "cell_type": "code",
   "execution_count": 5,
   "id": "afa71e3a",
   "metadata": {},
   "outputs": [
    {
     "name": "stdout",
     "output_type": "stream",
     "text": [
      "Note: you may need to restart the kernel to use updated packages.\n"
     ]
    },
    {
     "name": "stderr",
     "output_type": "stream",
     "text": [
      "ERROR: Could not find a version that satisfies the requirement urllib (from versions: none)\n",
      "ERROR: No matching distribution found for urllib\n",
      "\n",
      "[notice] A new release of pip is available: 24.0 -> 25.1.1\n",
      "[notice] To update, run: python.exe -m pip install --upgrade pip\n"
     ]
    },
    {
     "name": "stdout",
     "output_type": "stream",
     "text": [
      "Requirement already satisfied: pyodbc in c:\\users\\tanuj\\documents\\usecases\\usecases\\lib\\site-packages (5.2.0)\n",
      "Note: you may need to restart the kernel to use updated packages.\n"
     ]
    },
    {
     "name": "stderr",
     "output_type": "stream",
     "text": [
      "\n",
      "[notice] A new release of pip is available: 24.0 -> 25.1.1\n",
      "[notice] To update, run: python.exe -m pip install --upgrade pip\n"
     ]
    },
    {
     "name": "stdout",
     "output_type": "stream",
     "text": [
      "Collecting sqlalchemy\n",
      "  Downloading sqlalchemy-2.0.41-cp311-cp311-win_amd64.whl.metadata (9.8 kB)\n",
      "Collecting greenlet>=1 (from sqlalchemy)\n",
      "  Downloading greenlet-3.2.3-cp311-cp311-win_amd64.whl.metadata (4.2 kB)\n",
      "Requirement already satisfied: typing-extensions>=4.6.0 in c:\\users\\tanuj\\documents\\usecases\\usecases\\lib\\site-packages (from sqlalchemy) (4.14.0)\n",
      "Downloading sqlalchemy-2.0.41-cp311-cp311-win_amd64.whl (2.1 MB)\n",
      "   ---------------------------------------- 0.0/2.1 MB ? eta -:--:--\n",
      "    --------------------------------------- 0.0/2.1 MB 1.4 MB/s eta 0:00:02\n",
      "   ------ --------------------------------- 0.3/2.1 MB 4.1 MB/s eta 0:00:01\n",
      "   ---------------- ----------------------- 0.9/2.1 MB 7.8 MB/s eta 0:00:01\n",
      "   --------------------------- ------------ 1.4/2.1 MB 9.2 MB/s eta 0:00:01\n",
      "   -------------------------------------- - 2.0/2.1 MB 9.8 MB/s eta 0:00:01\n",
      "   ---------------------------------------- 2.1/2.1 MB 9.0 MB/s eta 0:00:00\n",
      "Downloading greenlet-3.2.3-cp311-cp311-win_amd64.whl (297 kB)\n",
      "   ---------------------------------------- 0.0/297.0 kB ? eta -:--:--\n",
      "   --------------------------------------- 297.0/297.0 kB 17.9 MB/s eta 0:00:00\n",
      "Installing collected packages: greenlet, sqlalchemy\n",
      "Successfully installed greenlet-3.2.3 sqlalchemy-2.0.41\n",
      "Note: you may need to restart the kernel to use updated packages.\n"
     ]
    },
    {
     "name": "stderr",
     "output_type": "stream",
     "text": [
      "\n",
      "[notice] A new release of pip is available: 24.0 -> 25.1.1\n",
      "[notice] To update, run: python.exe -m pip install --upgrade pip\n"
     ]
    }
   ],
   "source": [
    "%pip install urllib\n",
    "%pip install pyodbc\n",
    "%pip install sqlalchemy"
   ]
  },
  {
   "cell_type": "markdown",
   "id": "66476c50",
   "metadata": {},
   "source": [
    "**Step 1: Define your connection details**"
   ]
  },
  {
   "cell_type": "code",
   "execution_count": 24,
   "id": "03d1565f",
   "metadata": {},
   "outputs": [],
   "source": [
    "server='DESKTOP-HJVSCEN\\MSSQLSERVER1'\n",
    "database='Python ETL'\n",
    "username='sa'\n",
    "password='Ka@12345678'"
   ]
  },
  {
   "cell_type": "markdown",
   "id": "fbd2149b",
   "metadata": {},
   "source": [
    "**Step 2: Build the full connection string (ODBC-style)**"
   ]
  },
  {
   "cell_type": "code",
   "execution_count": 25,
   "id": "859626c2",
   "metadata": {},
   "outputs": [
    {
     "name": "stdout",
     "output_type": "stream",
     "text": [
      "%0A++++DRIVER%3D%7BODBC+Driver+18+for+SQL+Server%7D%3B%0A++++SERVER%3DDESKTOP-HJVSCEN%5CMSSQLSERVER1%3B%0A++++DATABASE%3DPython+ETL%3B%0A++++UID%3Dsa%3B%0A++++PWD%3DKa%4012345678%3B%0A++++TrustServerCertificate%3Dyes%3B%0A\n"
     ]
    }
   ],
   "source": [
    "import urllib\n",
    "\n",
    "ConnectionString = f\"\"\"\n",
    "    DRIVER={{ODBC Driver 18 for SQL Server}};\n",
    "    SERVER={server};\n",
    "    DATABASE={database};\n",
    "    UID={username};\n",
    "    PWD={password};\n",
    "    TrustServerCertificate=yes;\n",
    "\"\"\"\n",
    "# URL-encode the connection string for SQLAlchemy\n",
    "params=urllib.parse.quote_plus(ConnectionString)\n",
    "print(params)"
   ]
  },
  {
   "cell_type": "markdown",
   "id": "bf3b645e",
   "metadata": {},
   "source": [
    "**Step 3: Create the SQLAlchemy engine**"
   ]
  },
  {
   "cell_type": "code",
   "execution_count": 26,
   "id": "2d755d69",
   "metadata": {},
   "outputs": [],
   "source": [
    "from sqlalchemy import create_engine\n",
    "\n",
    "engine=create_engine(f\"mssql+pyodbc:///?odbc_connect={params}\")"
   ]
  },
  {
   "cell_type": "markdown",
   "id": "30df9e8b",
   "metadata": {},
   "source": [
    "**Step 4: Insert your CSV using pandas.to_sql()**"
   ]
  },
  {
   "cell_type": "code",
   "execution_count": 36,
   "id": "7d535797",
   "metadata": {},
   "outputs": [
    {
     "data": {
      "text/plain": [
       "transaction_id        int64\n",
       "customer_id           int64\n",
       "amount              float64\n",
       "transaction_date     object\n",
       "product_category     object\n",
       "payment_method       object\n",
       "store_location       object\n",
       "dtype: object"
      ]
     },
     "execution_count": 36,
     "metadata": {},
     "output_type": "execute_result"
    }
   ],
   "source": [
    "import pandas as pd\n",
    "\n",
    "df=pd.read_csv('../Datasets/transaction_data.csv')\n",
    "df.isna().sum()\n",
    "df.dtypes"
   ]
  },
  {
   "cell_type": "code",
   "execution_count": 38,
   "id": "53929a9f",
   "metadata": {},
   "outputs": [
    {
     "name": "stderr",
     "output_type": "stream",
     "text": [
      "C:\\Users\\Tanuj\\AppData\\Local\\Temp\\ipykernel_15868\\3527743662.py:1: FutureWarning: A value is trying to be set on a copy of a DataFrame or Series through chained assignment using an inplace method.\n",
      "The behavior will change in pandas 3.0. This inplace method will never work because the intermediate object on which we are setting values always behaves as a copy.\n",
      "\n",
      "For example, when doing 'df[col].method(value, inplace=True)', try using 'df.method({col: value}, inplace=True)' or df[col] = df[col].method(value) instead, to perform the operation inplace on the original object.\n",
      "\n",
      "\n",
      "  df['amount'].fillna(df['amount'].mean(),inplace=True)\n"
     ]
    },
    {
     "data": {
      "text/html": [
       "<div>\n",
       "<style scoped>\n",
       "    .dataframe tbody tr th:only-of-type {\n",
       "        vertical-align: middle;\n",
       "    }\n",
       "\n",
       "    .dataframe tbody tr th {\n",
       "        vertical-align: top;\n",
       "    }\n",
       "\n",
       "    .dataframe thead th {\n",
       "        text-align: right;\n",
       "    }\n",
       "</style>\n",
       "<table border=\"1\" class=\"dataframe\">\n",
       "  <thead>\n",
       "    <tr style=\"text-align: right;\">\n",
       "      <th></th>\n",
       "      <th>transaction_id</th>\n",
       "      <th>customer_id</th>\n",
       "      <th>amount</th>\n",
       "      <th>transaction_date</th>\n",
       "      <th>product_category</th>\n",
       "      <th>payment_method</th>\n",
       "      <th>store_location</th>\n",
       "    </tr>\n",
       "  </thead>\n",
       "  <tbody>\n",
       "    <tr>\n",
       "      <th>0</th>\n",
       "      <td>1</td>\n",
       "      <td>565</td>\n",
       "      <td>2992.470000</td>\n",
       "      <td>2025-03-10 01:20:54</td>\n",
       "      <td>Sports</td>\n",
       "      <td>Debit Card</td>\n",
       "      <td>New York</td>\n",
       "    </tr>\n",
       "    <tr>\n",
       "      <th>1</th>\n",
       "      <td>2</td>\n",
       "      <td>323</td>\n",
       "      <td>2041.870000</td>\n",
       "      <td>2025-01-02 15:24:19</td>\n",
       "      <td>Clothing</td>\n",
       "      <td>Cash</td>\n",
       "      <td>New York</td>\n",
       "    </tr>\n",
       "    <tr>\n",
       "      <th>2</th>\n",
       "      <td>3</td>\n",
       "      <td>398</td>\n",
       "      <td>107.350000</td>\n",
       "      <td>2025-02-16 03:49:01</td>\n",
       "      <td>Beauty</td>\n",
       "      <td>Debit Card</td>\n",
       "      <td>Online</td>\n",
       "    </tr>\n",
       "    <tr>\n",
       "      <th>3</th>\n",
       "      <td>4</td>\n",
       "      <td>19</td>\n",
       "      <td>2532.550126</td>\n",
       "      <td>2025-04-30 15:26:23</td>\n",
       "      <td>Sports</td>\n",
       "      <td>Debit Card</td>\n",
       "      <td>Los Angeles</td>\n",
       "    </tr>\n",
       "    <tr>\n",
       "      <th>4</th>\n",
       "      <td>5</td>\n",
       "      <td>547</td>\n",
       "      <td>3063.280000</td>\n",
       "      <td>2025-06-14 04:28:53</td>\n",
       "      <td>Clothing</td>\n",
       "      <td>PayPal</td>\n",
       "      <td>Los Angeles</td>\n",
       "    </tr>\n",
       "    <tr>\n",
       "      <th>...</th>\n",
       "      <td>...</td>\n",
       "      <td>...</td>\n",
       "      <td>...</td>\n",
       "      <td>...</td>\n",
       "      <td>...</td>\n",
       "      <td>...</td>\n",
       "      <td>...</td>\n",
       "    </tr>\n",
       "    <tr>\n",
       "      <th>995</th>\n",
       "      <td>996</td>\n",
       "      <td>60</td>\n",
       "      <td>712.470000</td>\n",
       "      <td>2025-01-13 14:16:32</td>\n",
       "      <td>Electronics</td>\n",
       "      <td>Debit Card</td>\n",
       "      <td>New York</td>\n",
       "    </tr>\n",
       "    <tr>\n",
       "      <th>996</th>\n",
       "      <td>997</td>\n",
       "      <td>235</td>\n",
       "      <td>2125.180000</td>\n",
       "      <td>2025-06-09 12:37:36</td>\n",
       "      <td>Electronics</td>\n",
       "      <td>PayPal</td>\n",
       "      <td>Chicago</td>\n",
       "    </tr>\n",
       "    <tr>\n",
       "      <th>997</th>\n",
       "      <td>998</td>\n",
       "      <td>669</td>\n",
       "      <td>3069.080000</td>\n",
       "      <td>2025-04-01 19:59:01</td>\n",
       "      <td>Home</td>\n",
       "      <td>PayPal</td>\n",
       "      <td>Los Angeles</td>\n",
       "    </tr>\n",
       "    <tr>\n",
       "      <th>998</th>\n",
       "      <td>999</td>\n",
       "      <td>931</td>\n",
       "      <td>2262.750000</td>\n",
       "      <td>2025-06-08 01:36:01</td>\n",
       "      <td>Clothing</td>\n",
       "      <td>Debit Card</td>\n",
       "      <td>Online</td>\n",
       "    </tr>\n",
       "    <tr>\n",
       "      <th>999</th>\n",
       "      <td>1000</td>\n",
       "      <td>925</td>\n",
       "      <td>4141.440000</td>\n",
       "      <td>2025-05-24 13:39:19</td>\n",
       "      <td>Electronics</td>\n",
       "      <td>PayPal</td>\n",
       "      <td>Online</td>\n",
       "    </tr>\n",
       "  </tbody>\n",
       "</table>\n",
       "<p>1000 rows × 7 columns</p>\n",
       "</div>"
      ],
      "text/plain": [
       "     transaction_id  customer_id       amount     transaction_date  \\\n",
       "0                 1          565  2992.470000  2025-03-10 01:20:54   \n",
       "1                 2          323  2041.870000  2025-01-02 15:24:19   \n",
       "2                 3          398   107.350000  2025-02-16 03:49:01   \n",
       "3                 4           19  2532.550126  2025-04-30 15:26:23   \n",
       "4                 5          547  3063.280000  2025-06-14 04:28:53   \n",
       "..              ...          ...          ...                  ...   \n",
       "995             996           60   712.470000  2025-01-13 14:16:32   \n",
       "996             997          235  2125.180000  2025-06-09 12:37:36   \n",
       "997             998          669  3069.080000  2025-04-01 19:59:01   \n",
       "998             999          931  2262.750000  2025-06-08 01:36:01   \n",
       "999            1000          925  4141.440000  2025-05-24 13:39:19   \n",
       "\n",
       "    product_category payment_method store_location  \n",
       "0             Sports     Debit Card       New York  \n",
       "1           Clothing           Cash       New York  \n",
       "2             Beauty     Debit Card         Online  \n",
       "3             Sports     Debit Card    Los Angeles  \n",
       "4           Clothing         PayPal    Los Angeles  \n",
       "..               ...            ...            ...  \n",
       "995      Electronics     Debit Card       New York  \n",
       "996      Electronics         PayPal        Chicago  \n",
       "997             Home         PayPal    Los Angeles  \n",
       "998         Clothing     Debit Card         Online  \n",
       "999      Electronics         PayPal         Online  \n",
       "\n",
       "[1000 rows x 7 columns]"
      ]
     },
     "execution_count": 38,
     "metadata": {},
     "output_type": "execute_result"
    }
   ],
   "source": [
    "\n",
    "df['amount'].fillna(df['amount'].mean(),inplace=True)\n",
    "df"
   ]
  },
  {
   "cell_type": "code",
   "execution_count": 39,
   "id": "4da91ef8",
   "metadata": {},
   "outputs": [
    {
     "data": {
      "text/plain": [
       "103"
      ]
     },
     "execution_count": 39,
     "metadata": {},
     "output_type": "execute_result"
    }
   ],
   "source": [
    "df.to_sql(\"transactions\",con=engine,index=False, if_exists='replace')\n"
   ]
  },
  {
   "cell_type": "code",
   "execution_count": 42,
   "id": "f311b58b",
   "metadata": {},
   "outputs": [
    {
     "data": {
      "text/plain": [
       "order_id            0\n",
       "customer_id         0\n",
       "order_date          0\n",
       "order_amount        0\n",
       "order_status        0\n",
       "product_category    0\n",
       "dtype: int64"
      ]
     },
     "execution_count": 42,
     "metadata": {},
     "output_type": "execute_result"
    }
   ],
   "source": [
    "df2=pd.read_csv('..\\Datasets\\order_data 1.csv')\n",
    "df2.isna().sum()"
   ]
  },
  {
   "cell_type": "code",
   "execution_count": 43,
   "id": "a08af345",
   "metadata": {},
   "outputs": [
    {
     "data": {
      "text/plain": [
       "255"
      ]
     },
     "execution_count": 43,
     "metadata": {},
     "output_type": "execute_result"
    }
   ],
   "source": [
    "df2.to_sql(\"orders\",con=engine,index=False,if_exists='replace')"
   ]
  },
  {
   "cell_type": "code",
   "execution_count": null,
   "id": "e4a11314",
   "metadata": {},
   "outputs": [],
   "source": []
  }
 ],
 "metadata": {
  "kernelspec": {
   "display_name": "Usecases",
   "language": "python",
   "name": "python3"
  },
  "language_info": {
   "codemirror_mode": {
    "name": "ipython",
    "version": 3
   },
   "file_extension": ".py",
   "mimetype": "text/x-python",
   "name": "python",
   "nbconvert_exporter": "python",
   "pygments_lexer": "ipython3",
   "version": "3.11.9"
  }
 },
 "nbformat": 4,
 "nbformat_minor": 5
}
