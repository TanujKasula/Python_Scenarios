{
 "cells": [
  {
   "cell_type": "code",
   "execution_count": 2,
   "id": "46a16381",
   "metadata": {},
   "outputs": [],
   "source": [
    "import urllib\n",
    "from sqlalchemy import create_engine\n",
    "import pandas as pd\n",
    "from datetime import datetime\n",
    "\n",
    "server='DESKTOP-HJVSCEN\\MSSQLSERVER1'\n",
    "database='Python ETL'\n",
    "username='sa'\n",
    "password='Ka@12345678'\n",
    "\n",
    "\n",
    "ConnectionString = f\"\"\"\n",
    "    DRIVER={{ODBC Driver 18 for SQL Server}};\n",
    "    SERVER={server};\n",
    "    DATABASE={database};\n",
    "    UID={username};\n",
    "    PWD={password};\n",
    "    TrustServerCertificate=yes;\n",
    "\"\"\"\n",
    "# URL-encode the connection string for SQLAlchemy\n",
    "params=urllib.parse.quote_plus(ConnectionString)\n",
    "\n",
    "engine=create_engine(f\"mssql+pyodbc:///?odbc_connect={params}\")"
   ]
  },
  {
   "cell_type": "code",
   "execution_count": 3,
   "id": "bcd1ef6c",
   "metadata": {},
   "outputs": [
    {
     "data": {
      "text/html": [
       "<div>\n",
       "<style scoped>\n",
       "    .dataframe tbody tr th:only-of-type {\n",
       "        vertical-align: middle;\n",
       "    }\n",
       "\n",
       "    .dataframe tbody tr th {\n",
       "        vertical-align: top;\n",
       "    }\n",
       "\n",
       "    .dataframe thead th {\n",
       "        text-align: right;\n",
       "    }\n",
       "</style>\n",
       "<table border=\"1\" class=\"dataframe\">\n",
       "  <thead>\n",
       "    <tr style=\"text-align: right;\">\n",
       "      <th></th>\n",
       "      <th>customerid</th>\n",
       "      <th>name</th>\n",
       "      <th>city</th>\n",
       "      <th>email</th>\n",
       "      <th>lastupdated</th>\n",
       "    </tr>\n",
       "  </thead>\n",
       "  <tbody>\n",
       "    <tr>\n",
       "      <th>0</th>\n",
       "      <td>101</td>\n",
       "      <td>Tanuj</td>\n",
       "      <td>Hyderabad</td>\n",
       "      <td>rangatanuj@gmail.com</td>\n",
       "      <td>2025-01-20</td>\n",
       "    </tr>\n",
       "    <tr>\n",
       "      <th>1</th>\n",
       "      <td>102</td>\n",
       "      <td>Meenu</td>\n",
       "      <td>Hyderabad</td>\n",
       "      <td>meenu@gmail.com</td>\n",
       "      <td>2025-02-22</td>\n",
       "    </tr>\n",
       "    <tr>\n",
       "      <th>2</th>\n",
       "      <td>103</td>\n",
       "      <td>John</td>\n",
       "      <td>Pune</td>\n",
       "      <td>john@gmail.com</td>\n",
       "      <td>2025-03-24</td>\n",
       "    </tr>\n",
       "    <tr>\n",
       "      <th>3</th>\n",
       "      <td>104</td>\n",
       "      <td>Smrithi</td>\n",
       "      <td>Mumbai</td>\n",
       "      <td>smrithi@gmail.com</td>\n",
       "      <td>2025-04-26</td>\n",
       "    </tr>\n",
       "    <tr>\n",
       "      <th>4</th>\n",
       "      <td>105</td>\n",
       "      <td>Chiru</td>\n",
       "      <td>Banglore</td>\n",
       "      <td>chiru@gmail.com</td>\n",
       "      <td>2025-05-28</td>\n",
       "    </tr>\n",
       "    <tr>\n",
       "      <th>5</th>\n",
       "      <td>107</td>\n",
       "      <td>Ravi</td>\n",
       "      <td>Delhi</td>\n",
       "      <td>ravi@gmail.com</td>\n",
       "      <td>2025-06-20</td>\n",
       "    </tr>\n",
       "    <tr>\n",
       "      <th>6</th>\n",
       "      <td>108</td>\n",
       "      <td>Jack</td>\n",
       "      <td>Delhi</td>\n",
       "      <td>jack@gmail.com</td>\n",
       "      <td>2025-06-20</td>\n",
       "    </tr>\n",
       "    <tr>\n",
       "      <th>7</th>\n",
       "      <td>106</td>\n",
       "      <td>Jaaaanu</td>\n",
       "      <td>Delhi</td>\n",
       "      <td>jaaanu@gmail.com</td>\n",
       "      <td>2025-06-24</td>\n",
       "    </tr>\n",
       "  </tbody>\n",
       "</table>\n",
       "</div>"
      ],
      "text/plain": [
       "   customerid     name       city                 email lastupdated\n",
       "0         101    Tanuj  Hyderabad  rangatanuj@gmail.com  2025-01-20\n",
       "1         102    Meenu  Hyderabad       meenu@gmail.com  2025-02-22\n",
       "2         103     John       Pune        john@gmail.com  2025-03-24\n",
       "3         104  Smrithi     Mumbai     smrithi@gmail.com  2025-04-26\n",
       "4         105    Chiru   Banglore       chiru@gmail.com  2025-05-28\n",
       "5         107     Ravi      Delhi        ravi@gmail.com  2025-06-20\n",
       "6         108     Jack      Delhi        jack@gmail.com  2025-06-20\n",
       "7         106  Jaaaanu      Delhi      jaaanu@gmail.com  2025-06-24"
      ]
     },
     "execution_count": 3,
     "metadata": {},
     "output_type": "execute_result"
    }
   ],
   "source": [
    "existing_df=pd.read_sql_table('customers_base',con=engine)\n",
    "existing_df"
   ]
  },
  {
   "cell_type": "code",
   "execution_count": 20,
   "id": "830a44c5",
   "metadata": {},
   "outputs": [
    {
     "data": {
      "text/html": [
       "<div>\n",
       "<style scoped>\n",
       "    .dataframe tbody tr th:only-of-type {\n",
       "        vertical-align: middle;\n",
       "    }\n",
       "\n",
       "    .dataframe tbody tr th {\n",
       "        vertical-align: top;\n",
       "    }\n",
       "\n",
       "    .dataframe thead th {\n",
       "        text-align: right;\n",
       "    }\n",
       "</style>\n",
       "<table border=\"1\" class=\"dataframe\">\n",
       "  <thead>\n",
       "    <tr style=\"text-align: right;\">\n",
       "      <th></th>\n",
       "      <th>customerid</th>\n",
       "      <th>name</th>\n",
       "      <th>city</th>\n",
       "      <th>email</th>\n",
       "      <th>lastupdated</th>\n",
       "    </tr>\n",
       "  </thead>\n",
       "  <tbody>\n",
       "    <tr>\n",
       "      <th>0</th>\n",
       "      <td>102</td>\n",
       "      <td>Meenu</td>\n",
       "      <td>Hyderabad</td>\n",
       "      <td>meenu@gmail.com</td>\n",
       "      <td>2025-02-22</td>\n",
       "    </tr>\n",
       "    <tr>\n",
       "      <th>1</th>\n",
       "      <td>104</td>\n",
       "      <td>Smrithi</td>\n",
       "      <td>Chennai</td>\n",
       "      <td>smrithi@gmail.com</td>\n",
       "      <td>2025-06-23</td>\n",
       "    </tr>\n",
       "    <tr>\n",
       "      <th>2</th>\n",
       "      <td>101</td>\n",
       "      <td>Tanuj</td>\n",
       "      <td>Bangalore</td>\n",
       "      <td>tanuj.new@gmail.com</td>\n",
       "      <td>2025-06-23</td>\n",
       "    </tr>\n",
       "    <tr>\n",
       "      <th>3</th>\n",
       "      <td>102</td>\n",
       "      <td>Meenu</td>\n",
       "      <td>Hyderabad</td>\n",
       "      <td>meenu@gmail.com</td>\n",
       "      <td>2025-02-22</td>\n",
       "    </tr>\n",
       "    <tr>\n",
       "      <th>4</th>\n",
       "      <td>106</td>\n",
       "      <td>Jaaaanu</td>\n",
       "      <td>Delhi</td>\n",
       "      <td>jaaanu@gmail.com</td>\n",
       "      <td>2025-06-24</td>\n",
       "    </tr>\n",
       "  </tbody>\n",
       "</table>\n",
       "</div>"
      ],
      "text/plain": [
       "   customerid     name       city                email lastupdated\n",
       "0         102    Meenu  Hyderabad      meenu@gmail.com  2025-02-22\n",
       "1         104  Smrithi    Chennai    smrithi@gmail.com  2025-06-23\n",
       "2         101    Tanuj  Bangalore  tanuj.new@gmail.com  2025-06-23\n",
       "3         102    Meenu  Hyderabad      meenu@gmail.com  2025-02-22\n",
       "4         106  Jaaaanu      Delhi     jaaanu@gmail.com  2025-06-24"
      ]
     },
     "execution_count": 20,
     "metadata": {},
     "output_type": "execute_result"
    }
   ],
   "source": [
    "incoming_df = pd.DataFrame([\n",
    "    {\"customerid\": 102, \"name\": \"Meenu\", \"city\": \"Hyderabad\", \"email\": \"meenu@gmail.com\", \"lastupdated\": datetime(2025, 2, 22)},     # No change\n",
    "    {\"customerid\": 104, \"name\": \"Smrithi\", \"city\": \"Chennai\", \"email\": \"smrithi@gmail.com\", \"lastupdated\": datetime(2025, 6, 23)},   # Changed city,lastupdated\n",
    "    {\"customerid\": 101, \"name\": \"Tanuj\", \"city\": \"Bangalore\", \"email\": \"tanuj.new@gmail.com\", \"lastupdated\": datetime(2025, 6, 23)},  # Changed city and email,lastupdated\n",
    "    {\"customerid\": 102, \"name\": \"Meenu\", \"city\": \"Hyderabad\", \"email\": \"meenu@gmail.com\", \"lastupdated\": datetime(2025, 2, 22)},     # No change\n",
    "    {\"customerid\": 106, \"name\": \"Jaaaanu\", \"city\": \"Delhi\", \"email\": \"jaaanu@gmail.com\", \"lastupdated\": datetime(2025, 6, 24)}            # New record\n",
    "])\n",
    "incoming_df"
   ]
  },
  {
   "cell_type": "code",
   "execution_count": 21,
   "id": "48176544",
   "metadata": {},
   "outputs": [],
   "source": [
    "# Step 0: Remove duplicates by keeping the most recent record (latest lastupdated)\n",
    "incoming_df = incoming_df.sort_values('lastupdated').drop_duplicates(subset='customerid', keep='last')\n"
   ]
  },
  {
   "cell_type": "code",
   "execution_count": 22,
   "id": "ad6b98e2",
   "metadata": {},
   "outputs": [],
   "source": [
    "incoming_df.set_index('customerid', inplace=True)\n",
    "existing_df.set_index('customerid', inplace=True)"
   ]
  },
  {
   "cell_type": "code",
   "execution_count": 13,
   "id": "ac43fdf2",
   "metadata": {},
   "outputs": [
    {
     "data": {
      "text/html": [
       "<div>\n",
       "<style scoped>\n",
       "    .dataframe tbody tr th:only-of-type {\n",
       "        vertical-align: middle;\n",
       "    }\n",
       "\n",
       "    .dataframe tbody tr th {\n",
       "        vertical-align: top;\n",
       "    }\n",
       "\n",
       "    .dataframe thead th {\n",
       "        text-align: right;\n",
       "    }\n",
       "</style>\n",
       "<table border=\"1\" class=\"dataframe\">\n",
       "  <thead>\n",
       "    <tr style=\"text-align: right;\">\n",
       "      <th></th>\n",
       "      <th>name</th>\n",
       "      <th>city</th>\n",
       "      <th>email</th>\n",
       "      <th>lastupdated</th>\n",
       "    </tr>\n",
       "    <tr>\n",
       "      <th>customerid</th>\n",
       "      <th></th>\n",
       "      <th></th>\n",
       "      <th></th>\n",
       "      <th></th>\n",
       "    </tr>\n",
       "  </thead>\n",
       "  <tbody>\n",
       "    <tr>\n",
       "      <th>102</th>\n",
       "      <td>Meenu</td>\n",
       "      <td>Hyderabad</td>\n",
       "      <td>meenu@gmail.com</td>\n",
       "      <td>2025-02-22</td>\n",
       "    </tr>\n",
       "    <tr>\n",
       "      <th>104</th>\n",
       "      <td>Smrithi</td>\n",
       "      <td>Chennai</td>\n",
       "      <td>smrithi@gmail.com</td>\n",
       "      <td>2025-06-23</td>\n",
       "    </tr>\n",
       "    <tr>\n",
       "      <th>101</th>\n",
       "      <td>Tanuj</td>\n",
       "      <td>Bangalore</td>\n",
       "      <td>tanuj.new@gmail.com</td>\n",
       "      <td>2025-06-23</td>\n",
       "    </tr>\n",
       "    <tr>\n",
       "      <th>107</th>\n",
       "      <td>Jaaaanu</td>\n",
       "      <td>Delhi</td>\n",
       "      <td>jaaanu@gmail.com</td>\n",
       "      <td>2025-06-24</td>\n",
       "    </tr>\n",
       "  </tbody>\n",
       "</table>\n",
       "</div>"
      ],
      "text/plain": [
       "               name       city                email lastupdated\n",
       "customerid                                                     \n",
       "102           Meenu  Hyderabad      meenu@gmail.com  2025-02-22\n",
       "104         Smrithi    Chennai    smrithi@gmail.com  2025-06-23\n",
       "101           Tanuj  Bangalore  tanuj.new@gmail.com  2025-06-23\n",
       "107         Jaaaanu      Delhi     jaaanu@gmail.com  2025-06-24"
      ]
     },
     "execution_count": 13,
     "metadata": {},
     "output_type": "execute_result"
    }
   ],
   "source": [
    "incoming_df=incoming_df[existing_df.columns]\n",
    "incoming_df"
   ]
  },
  {
   "cell_type": "code",
   "execution_count": 23,
   "id": "72b7711e",
   "metadata": {},
   "outputs": [
    {
     "name": "stdout",
     "output_type": "stream",
     "text": [
      "Index([102, 104, 101], dtype='int64', name='customerid')\n",
      "Index([106], dtype='int64', name='customerid')\n"
     ]
    }
   ],
   "source": [
    "common_ids=incoming_df.index.intersection(existing_df.index)\n",
    "new_ids=incoming_df.index.difference(existing_df.index)\n",
    "print(common_ids)\n",
    "print(new_ids)"
   ]
  },
  {
   "cell_type": "code",
   "execution_count": 24,
   "id": "0c8e8e91",
   "metadata": {},
   "outputs": [
    {
     "data": {
      "text/html": [
       "<div>\n",
       "<style scoped>\n",
       "    .dataframe tbody tr th:only-of-type {\n",
       "        vertical-align: middle;\n",
       "    }\n",
       "\n",
       "    .dataframe tbody tr th {\n",
       "        vertical-align: top;\n",
       "    }\n",
       "\n",
       "    .dataframe thead th {\n",
       "        text-align: right;\n",
       "    }\n",
       "</style>\n",
       "<table border=\"1\" class=\"dataframe\">\n",
       "  <thead>\n",
       "    <tr style=\"text-align: right;\">\n",
       "      <th></th>\n",
       "      <th>name</th>\n",
       "      <th>city</th>\n",
       "      <th>email</th>\n",
       "      <th>lastupdated</th>\n",
       "    </tr>\n",
       "    <tr>\n",
       "      <th>customerid</th>\n",
       "      <th></th>\n",
       "      <th></th>\n",
       "      <th></th>\n",
       "      <th></th>\n",
       "    </tr>\n",
       "  </thead>\n",
       "  <tbody>\n",
       "    <tr>\n",
       "      <th>102</th>\n",
       "      <td>False</td>\n",
       "      <td>False</td>\n",
       "      <td>False</td>\n",
       "      <td>False</td>\n",
       "    </tr>\n",
       "    <tr>\n",
       "      <th>104</th>\n",
       "      <td>False</td>\n",
       "      <td>True</td>\n",
       "      <td>False</td>\n",
       "      <td>True</td>\n",
       "    </tr>\n",
       "    <tr>\n",
       "      <th>101</th>\n",
       "      <td>False</td>\n",
       "      <td>True</td>\n",
       "      <td>True</td>\n",
       "      <td>True</td>\n",
       "    </tr>\n",
       "  </tbody>\n",
       "</table>\n",
       "</div>"
      ],
      "text/plain": [
       "             name   city  email  lastupdated\n",
       "customerid                                  \n",
       "102         False  False  False        False\n",
       "104         False   True  False         True\n",
       "101         False   True   True         True"
      ]
     },
     "execution_count": 24,
     "metadata": {},
     "output_type": "execute_result"
    }
   ],
   "source": [
    "changed_rows = incoming_df.loc[common_ids] != existing_df.loc[common_ids]\n",
    "changed_rows"
   ]
  },
  {
   "cell_type": "code",
   "execution_count": 25,
   "id": "4253b424",
   "metadata": {},
   "outputs": [
    {
     "data": {
      "text/plain": [
       "customerid\n",
       "102    False\n",
       "104     True\n",
       "101     True\n",
       "dtype: bool"
      ]
     },
     "execution_count": 25,
     "metadata": {},
     "output_type": "execute_result"
    }
   ],
   "source": [
    "updated_customers = changed_rows.any(axis=1)\n",
    "updated_customers\n"
   ]
  },
  {
   "cell_type": "code",
   "execution_count": 26,
   "id": "da6116dd",
   "metadata": {},
   "outputs": [],
   "source": [
    "from sqlalchemy import update,MetaData,column,table\n",
    "\n",
    "conn=engine.connect()\n",
    "metadata=MetaData()\n",
    "customer_table=table('customers_base',\n",
    "        column('customerid'),\n",
    "        column('name'),\n",
    "        column('city'),\n",
    "        column('email'),\n",
    "        column('lastupdated')\n",
    "        )"
   ]
  },
  {
   "cell_type": "code",
   "execution_count": 27,
   "id": "07804075",
   "metadata": {},
   "outputs": [],
   "source": [
    "for cust_id in updated_customers[updated_customers==True].index:\n",
    "    changed_cols=changed_rows.loc[cust_id]\n",
    "    # print(\"The changed columns for row are:\",changed_cols)\n",
    "    # print(changed_cols.index)\n",
    "    updated_values={}\n",
    "    for col in changed_cols.index:\n",
    "        # print(col)\n",
    "        if(changed_cols[col]):\n",
    "            # print(cust_id,col)\n",
    "            new_val=incoming_df.loc[cust_id,col]\n",
    "            updated_values[col]=new_val\n",
    "            # print(updated_values)\n",
    "    # print(cust_id,updated_values) \n",
    "    updated_values['lastupdated'] = datetime.now()\n",
    "    stmt=(\n",
    "        update(customer_table)\n",
    "        .where(customer_table.c.customerid==cust_id )\n",
    "        .values(**updated_values)\n",
    "    )\n",
    "    conn.execute(stmt)\n"
   ]
  },
  {
   "cell_type": "code",
   "execution_count": 28,
   "id": "f66a9f84",
   "metadata": {},
   "outputs": [
    {
     "data": {
      "text/plain": [
       "<bound method Connection.commit of <sqlalchemy.engine.base.Connection object at 0x000002614AD97790>>"
      ]
     },
     "execution_count": 28,
     "metadata": {},
     "output_type": "execute_result"
    }
   ],
   "source": [
    "only_new_df=incoming_df.loc[new_ids]\n",
    "if not only_new_df.empty:\n",
    "    only_new_df.reset_index(inplace=True)\n",
    "    only_new_df.to_sql('customers_base',con=engine,index=False,if_exists='append')\n"
   ]
  },
  {
   "cell_type": "code",
   "execution_count": null,
   "id": "be561def",
   "metadata": {},
   "outputs": [],
   "source": [
    "existing_df=pd.read_sql_table('customers_base',con=engine)\n",
    "existing_df"
   ]
  },
  {
   "cell_type": "code",
   "execution_count": null,
   "id": "59d0c4a2",
   "metadata": {},
   "outputs": [],
   "source": []
  }
 ],
 "metadata": {
  "kernelspec": {
   "display_name": "Usecases",
   "language": "python",
   "name": "python3"
  },
  "language_info": {
   "codemirror_mode": {
    "name": "ipython",
    "version": 3
   },
   "file_extension": ".py",
   "mimetype": "text/x-python",
   "name": "python",
   "nbconvert_exporter": "python",
   "pygments_lexer": "ipython3",
   "version": "3.11.9"
  }
 },
 "nbformat": 4,
 "nbformat_minor": 5
}
